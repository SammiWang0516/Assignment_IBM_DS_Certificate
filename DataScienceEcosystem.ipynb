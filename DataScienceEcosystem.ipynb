{
  "nbformat": 4,
  "nbformat_minor": 0,
  "metadata": {
    "colab": {
      "provenance": [],
      "authorship_tag": "ABX9TyMfJpRyubxCwWOioRXFk6DT",
      "include_colab_link": true
    },
    "kernelspec": {
      "name": "python3",
      "display_name": "Python 3"
    },
    "language_info": {
      "name": "python"
    }
  },
  "cells": [
    {
      "cell_type": "markdown",
      "metadata": {
        "id": "view-in-github",
        "colab_type": "text"
      },
      "source": [
        "<a href=\"https://colab.research.google.com/github/SammiWang0516/test/blob/main/DataScienceEcosystem.ipynb\" target=\"_parent\"><img src=\"https://colab.research.google.com/assets/colab-badge.svg\" alt=\"Open In Colab\"/></a>"
      ]
    },
    {
      "cell_type": "markdown",
      "source": [
        "# Data Science Tools and Ecosystem\n",
        "In this notebook, Data Science Tools and Ecosystem are summarized."
      ],
      "metadata": {
        "id": "xA0scWZJ9Kht"
      }
    },
    {
      "cell_type": "markdown",
      "source": [
        "Some of the popular languages that Data Scientists use are:\n",
        "1. Python\n",
        "2. R\n",
        "3. SQL"
      ],
      "metadata": {
        "id": "Lafvkuk5-wY0"
      }
    },
    {
      "cell_type": "markdown",
      "source": [
        "Some of the commonly used libraries used by Data Scientists include:\n",
        "1. numpy\n",
        "2. pandas\n",
        "3. matplotlib"
      ],
      "metadata": {
        "id": "5w_E4S_T_GKc"
      }
    },
    {
      "cell_type": "markdown",
      "source": [
        "|Data Science Tools|\n",
        "------------------\n",
        "|Jupyter Notebook|\n",
        "|RStudio|\n",
        "|PyCharm|\n"
      ],
      "metadata": {
        "id": "FStqR8FH_rOR"
      }
    },
    {
      "cell_type": "markdown",
      "source": [
        "### Below are a few examples of evaluating arithmetic expressions in Python\n"
      ],
      "metadata": {
        "id": "SxzHRifzCRD6"
      }
    },
    {
      "cell_type": "code",
      "source": [
        "# Addition\n",
        "result1 = 5 + 3      # 8\n",
        "\n",
        "# Subtraction\n",
        "result2 = 10 - 4     # 6\n",
        "\n",
        "# Multiplication\n",
        "result3 = 7 * 2      # 14\n",
        "\n",
        "# Division\n",
        "result4 = 15 / 3     # 5.0"
      ],
      "metadata": {
        "id": "EHX-NmGZED6a"
      },
      "execution_count": 2,
      "outputs": []
    },
    {
      "cell_type": "code",
      "source": [
        "(3*4)+5"
      ],
      "metadata": {
        "colab": {
          "base_uri": "https://localhost:8080/"
        },
        "id": "Xrg3DjqGEd-F",
        "outputId": "68f8c5ce-0086-4db4-832f-1c67bd8ee0d9"
      },
      "execution_count": 3,
      "outputs": [
        {
          "output_type": "execute_result",
          "data": {
            "text/plain": [
              "17"
            ]
          },
          "metadata": {},
          "execution_count": 3
        }
      ]
    },
    {
      "cell_type": "code",
      "source": [
        "# This will convert 200 minutes to hours by dividing by 60\n",
        "def min_to_hour(minute):\n",
        "  return round(minute / 60, 2)\n",
        "print(min_to_hour(200))"
      ],
      "metadata": {
        "colab": {
          "base_uri": "https://localhost:8080/"
        },
        "id": "vuAR7c3tEvk9",
        "outputId": "f42d2804-994d-4d2e-c29b-a634692af949"
      },
      "execution_count": 5,
      "outputs": [
        {
          "output_type": "stream",
          "name": "stdout",
          "text": [
            "3.33\n"
          ]
        }
      ]
    },
    {
      "cell_type": "markdown",
      "source": [
        "**Objectives**\n",
        "+ List popular languages for Data Science: Python, SQL, R, etc.\n",
        "+ List open source development environment for Data Science: RStudio, VS Code, Jupyter Notebook, etc\n",
        "+ Practice for several arthimetic expressions in Python"
      ],
      "metadata": {
        "id": "nHHclECiFljJ"
      }
    },
    {
      "cell_type": "markdown",
      "source": [
        "## Author\n",
        "Sammi Wang"
      ],
      "metadata": {
        "id": "gfOEiLRbGAPo"
      }
    }
  ]
}